{
 "cells": [
  {
   "cell_type": "markdown",
   "source": [
    "# Title: Majority Element\n",
    "\n",
    "## Description:\n",
    "Given an array **nums** of size n, return the majority element.\n",
    "\n",
    "The majority element is the element that appears more than ⌊n / 2⌋ times. You may assume that the majority element always exists in the array.\n",
    "\n",
    "## Example 1:\n",
    "\n",
    "**Input**: **nums** = [3,2,3]\n",
    "Output: 3\n",
    "\n",
    "## Example 2:\n",
    "\n",
    "**Input**: **nums** = [2,2,1,1,1,2,2]\n",
    "Output: 2"
   ],
   "metadata": {
    "collapsed": false
   },
   "id": "5658a63a4e16b5a7"
  },
  {
   "cell_type": "markdown",
   "source": [
    "# Code Implement"
   ],
   "metadata": {
    "collapsed": false
   },
   "id": "464c5184564052b3"
  },
  {
   "cell_type": "code",
   "execution_count": 8,
   "outputs": [],
   "source": [
    "def majority_element(nums: [int]) -> int:\n",
    "    count_dict = {}\n",
    "    for num in nums:\n",
    "        if num in count_dict.keys():\n",
    "            count_dict[num] = count_dict[num] + 1\n",
    "        else:\n",
    "            count_dict[num] = 1\n",
    "\n",
    "        if count_dict[num] > (len(nums) / 2):\n",
    "            return num\n",
    "    return -1"
   ],
   "metadata": {
    "collapsed": false,
    "ExecuteTime": {
     "end_time": "2023-09-17T13:48:07.702209Z",
     "start_time": "2023-09-17T13:48:07.665503Z"
    }
   },
   "id": "b42a54805e655af2"
  },
  {
   "cell_type": "markdown",
   "source": [
    "# Verification"
   ],
   "metadata": {
    "collapsed": false
   },
   "id": "5e4fe6a23c751c6f"
  },
  {
   "cell_type": "code",
   "execution_count": 9,
   "outputs": [
    {
     "name": "stdout",
     "output_type": "stream",
     "text": [
      "Output: 3\n"
     ]
    }
   ],
   "source": [
    "nums = [3,2,3]\n",
    "\n",
    "majority_num = majority_element(nums)\n",
    "print(f'Output: {majority_num}')"
   ],
   "metadata": {
    "collapsed": false,
    "ExecuteTime": {
     "end_time": "2023-09-17T13:48:07.713549Z",
     "start_time": "2023-09-17T13:48:07.668578Z"
    }
   },
   "id": "88cee19e9935c7ff"
  },
  {
   "cell_type": "code",
   "execution_count": 10,
   "outputs": [
    {
     "name": "stdout",
     "output_type": "stream",
     "text": [
      "Output: 2\n"
     ]
    }
   ],
   "source": [
    "nums = [2,2,1,1,1,2,2]\n",
    "\n",
    "majority_num = majority_element(nums)\n",
    "print(f'Output: {majority_num}')"
   ],
   "metadata": {
    "collapsed": false,
    "ExecuteTime": {
     "end_time": "2023-09-17T13:48:07.713853Z",
     "start_time": "2023-09-17T13:48:07.669038Z"
    }
   },
   "id": "850f056229a2ec0a"
  }
 ],
 "metadata": {
  "kernelspec": {
   "display_name": "Python 3",
   "language": "python",
   "name": "python3"
  },
  "language_info": {
   "codemirror_mode": {
    "name": "ipython",
    "version": 2
   },
   "file_extension": ".py",
   "mimetype": "text/x-python",
   "name": "python",
   "nbconvert_exporter": "python",
   "pygments_lexer": "ipython2",
   "version": "2.7.6"
  }
 },
 "nbformat": 4,
 "nbformat_minor": 5
}
