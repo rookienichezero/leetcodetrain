{
 "cells": [
  {
   "cell_type": "markdown",
   "source": [
    "# Title: Rotate Array\n",
    "\n",
    "## Description:\n",
    "Given an integer array **nums**, rotate the array to the right by **k** steps, where **k** is non-negative.\n",
    "\n",
    "## Example 1:\n",
    "\n",
    "**Input**: **nums** = [1,2,3,4,5,6,7], **k** = 3\n",
    "Output: [5,6,7,1,2,3,4]\n",
    "Explanation:\n",
    "Rotate right by 1 step: [7,1,2,3,4,5,6]\n",
    "Rotate right by 2 steps: [6,7,1,2,3,4,5]\n",
    "Rotate right by 3 steps: [5,6,7,1,2,3,4]\n",
    "\n",
    "## Example 2:\n",
    "\n",
    "**Input**: **nums** = [-1,-100,3,99], **k** = 2\n",
    "Output: [3,99,-1,-100]\n",
    "Explanation:\n",
    "Rotate right by 1 step: [99,-1,-100,3]\n",
    "Rotate right by 2 steps: [3,99,-1,-100]"
   ],
   "metadata": {
    "collapsed": false
   },
   "id": "cc4d9b709ded5df4"
  },
  {
   "cell_type": "markdown",
   "source": [
    "# Code Implement"
   ],
   "metadata": {
    "collapsed": false
   },
   "id": "d6d5e417feab13a0"
  },
  {
   "cell_type": "code",
   "execution_count": 9,
   "outputs": [],
   "source": [
    "def rotate(nums: [int], k: int) -> None:\n",
    "    k = k % len(nums)\n",
    "    \n",
    "    # it should be more easily to understand if we expand the array size to double size\n",
    "    # [1,2,3,4,5,6,7] > [1,2,3,4,5,6,7,1,2,3,4,5,6,7]\n",
    "    # if k = 1, we should choose [1,2,3,4,5,6,7,1,2,3,4,5,6,7]\n",
    "    #                                         ^ ^ ^ ^ ^ ^ ^\n",
    "    # if k = 2, we should choose [1,2,3,4,5,6,7,1,2,3,4,5,6,7]\n",
    "    #                                           ^ ^ ^ ^ ^ ^ ^\n",
    "    # ...\n",
    "    double_list = nums * 2\n",
    "    new_list = double_list[len(nums) - k : len(nums) * 2 - k]\n",
    "    for index in range(len(nums)):\n",
    "        nums[index] = new_list[index]"
   ],
   "metadata": {
    "collapsed": false,
    "ExecuteTime": {
     "end_time": "2023-09-17T12:16:33.059119Z",
     "start_time": "2023-09-17T12:16:33.051263Z"
    }
   },
   "id": "475705258d89bcdb"
  },
  {
   "cell_type": "markdown",
   "source": [
    "# Verification"
   ],
   "metadata": {
    "collapsed": false
   },
   "id": "f1832e934650b7c2"
  },
  {
   "cell_type": "code",
   "execution_count": 14,
   "outputs": [
    {
     "name": "stdout",
     "output_type": "stream",
     "text": [
      "Output: [5, 6, 7, 1, 2, 3, 4]\n"
     ]
    }
   ],
   "source": [
    "nums = [1,2,3,4,5,6,7]\n",
    "k = 3\n",
    "\n",
    "rotate(nums, k)\n",
    "print(f'Output: {nums}')"
   ],
   "metadata": {
    "collapsed": false,
    "ExecuteTime": {
     "end_time": "2023-09-17T13:37:42.829291Z",
     "start_time": "2023-09-17T13:37:42.823715Z"
    }
   },
   "id": "b7733b1b14ced7"
  },
  {
   "cell_type": "code",
   "execution_count": 13,
   "outputs": [
    {
     "name": "stdout",
     "output_type": "stream",
     "text": [
      "Output: [3, 99, -1, -100]\n"
     ]
    }
   ],
   "source": [
    "nums = [-1,-100,3,99]\n",
    "k = 2\n",
    "\n",
    "rotate(nums, k)\n",
    "print(f'Output: {nums}')"
   ],
   "metadata": {
    "collapsed": false,
    "ExecuteTime": {
     "end_time": "2023-09-17T13:37:31.621783Z",
     "start_time": "2023-09-17T13:37:31.614510Z"
    }
   },
   "id": "f1e4f6d0368e627a"
  }
 ],
 "metadata": {
  "kernelspec": {
   "display_name": "Python 3",
   "language": "python",
   "name": "python3"
  },
  "language_info": {
   "codemirror_mode": {
    "name": "ipython",
    "version": 2
   },
   "file_extension": ".py",
   "mimetype": "text/x-python",
   "name": "python",
   "nbconvert_exporter": "python",
   "pygments_lexer": "ipython2",
   "version": "2.7.6"
  }
 },
 "nbformat": 4,
 "nbformat_minor": 5
}
