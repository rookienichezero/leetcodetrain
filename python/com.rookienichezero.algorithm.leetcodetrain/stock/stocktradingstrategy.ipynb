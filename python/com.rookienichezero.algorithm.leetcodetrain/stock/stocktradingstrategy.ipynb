{
 "cells": [
  {
   "cell_type": "markdown",
   "source": [
    "# Title: Best Time to Buy and Sell Stocks II\n",
    "\n",
    "## Description:\n",
    "You are given an integer array prices, where prices[i] represents the price of a certain stock on the i-th day.\n",
    "\n",
    "On each day, you can decide whether to buy and/or sell the stock. You can hold at most one stock at any time. You are also allowed to buy and sell on the same day.\n",
    "\n",
    "Return the maximum profit you can achieve.\n",
    "\n",
    "## Example 1:\n",
    "Input: prices = [7,1,5,3,6,4]\n",
    "Output: 7\n",
    "Explanation: Buy on day 2 (price = 1) and sell on day 3 (price = 5), the profit is 5 - 1 = 4. Then, buy on day 4 (price = 3) and sell on day 5 (price = 6), the profit is 6 - 3 = 3. Total profit is 4 + 3 = 7.\n",
    "\n",
    "## Example 2:\n",
    "Input: prices = [1,2,3,4,5]\n",
    "Output: 4\n",
    "Explanation: Buy on day 1 (price = 1) and sell on day 5 (price = 5), the profit is 5 - 1 = 4. Total profit is 4.\n",
    "\n",
    "## Example 3:\n",
    "Input: prices = [7,6,4,3,1]\n",
    "Output: 0\n",
    "Explanation: In this case, no transactions are done, so the maximum profit is 0."
   ],
   "metadata": {
    "collapsed": false
   },
   "id": "4e5420bb5e083710"
  },
  {
   "cell_type": "markdown",
   "source": [
    "# Code Implement"
   ],
   "metadata": {
    "collapsed": false
   },
   "id": "4582fa4efabedcb4"
  },
  {
   "cell_type": "code",
   "execution_count": 2,
   "outputs": [],
   "source": [
    "def max_profit(prices):\n",
    "    if not prices:\n",
    "        return 0\n",
    "\n",
    "    # 1. At the end of day, we only have two choices : hold(buy) it or not hold(sell) it\n",
    "    # 2. The current profits depend on the previous day's profits\n",
    "    #   2.1. If we hold it current day, \n",
    "    #       2.1.1 if we hold it in previous day, it means that we needn't buy it again in current day. \n",
    "    #             The current hold_profit should be (previous hold_profit).\n",
    "    #       2.1.1 if we do not hold it in previous day, it means that we need to buy it in current day.\n",
    "    #             The current hold_profit should be (previous not_hold_profit + current price).\n",
    "    #   2.2. If we do not hold it current day, \n",
    "    #       2.2.1 if we do not hold it in previous day, it means that we needn't sell it again in current day. \n",
    "    #             The current not_hold_profit should be (previous not_hold_profit).\n",
    "    #       2.2.1 if we hold it in previous day, it means that we need to sell it in current day. \n",
    "    #             The current not_hold_profit should be (previous hold_profit + current price).\n",
    "    # we use two variables to express the current \n",
    "    previous_hold_profit = -prices[0]\n",
    "    previous_not_hold_profit = 0\n",
    "\n",
    "    for i in range(1, len(prices)):\n",
    "        current_hold_profit = max(previous_hold_profit, previous_not_hold_profit - prices[i])\n",
    "        current_not_hold_profit = max(previous_not_hold_profit, previous_hold_profit + prices[i])\n",
    "\n",
    "        previous_hold_profit = current_hold_profit\n",
    "        previous_not_hold_profit = current_not_hold_profit\n",
    "\n",
    "    return max(previous_hold_profit, previous_not_hold_profit)"
   ],
   "metadata": {
    "collapsed": false,
    "ExecuteTime": {
     "end_time": "2023-09-17T11:30:12.937754Z",
     "start_time": "2023-09-17T11:30:12.929565Z"
    }
   },
   "id": "e2b4d751cba4d6b"
  },
  {
   "cell_type": "markdown",
   "source": [
    "# Verification"
   ],
   "metadata": {
    "collapsed": false
   },
   "id": "b5486c261610108e"
  },
  {
   "cell_type": "code",
   "execution_count": 3,
   "outputs": [
    {
     "data": {
      "text/plain": "7"
     },
     "execution_count": 3,
     "metadata": {},
     "output_type": "execute_result"
    }
   ],
   "source": [
    "max_profit([7,1,5,3,6,4])"
   ],
   "metadata": {
    "collapsed": false,
    "ExecuteTime": {
     "end_time": "2023-09-17T11:30:14.932282Z",
     "start_time": "2023-09-17T11:30:14.927919Z"
    }
   },
   "id": "868f4af0cab41ba0"
  },
  {
   "cell_type": "code",
   "execution_count": 4,
   "outputs": [
    {
     "data": {
      "text/plain": "4"
     },
     "execution_count": 4,
     "metadata": {},
     "output_type": "execute_result"
    }
   ],
   "source": [
    "max_profit([1,2,3,4,5])"
   ],
   "metadata": {
    "collapsed": false,
    "ExecuteTime": {
     "end_time": "2023-09-17T11:30:32.848876Z",
     "start_time": "2023-09-17T11:30:32.842158Z"
    }
   },
   "id": "ebf68e9533c730f3"
  },
  {
   "cell_type": "code",
   "execution_count": 5,
   "outputs": [
    {
     "data": {
      "text/plain": "0"
     },
     "execution_count": 5,
     "metadata": {},
     "output_type": "execute_result"
    }
   ],
   "source": [
    "max_profit([7,6,4,3,1])"
   ],
   "metadata": {
    "collapsed": false,
    "ExecuteTime": {
     "end_time": "2023-09-17T11:30:41.473446Z",
     "start_time": "2023-09-17T11:30:41.468107Z"
    }
   },
   "id": "db9a539062a8d281"
  }
 ],
 "metadata": {
  "kernelspec": {
   "display_name": "Python 3",
   "language": "python",
   "name": "python3"
  },
  "language_info": {
   "codemirror_mode": {
    "name": "ipython",
    "version": 2
   },
   "file_extension": ".py",
   "mimetype": "text/x-python",
   "name": "python",
   "nbconvert_exporter": "python",
   "pygments_lexer": "ipython2",
   "version": "2.7.6"
  }
 },
 "nbformat": 4,
 "nbformat_minor": 5
}
