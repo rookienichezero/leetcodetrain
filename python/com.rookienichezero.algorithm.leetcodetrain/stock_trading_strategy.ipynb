{
 "cells": [
  {
   "cell_type": "markdown",
   "source": [
    "# Title: Best Time to Buy and Sell Stocks\n",
    "\n",
    "## Description:\n",
    "Given an array prices, where the i-th element prices[i] represents the price of a given stock on the i-th day.\n",
    "\n",
    "You can only choose one day to buy one stock and choose a different day in the future to sell that stock. Design an algorithm to calculate the maximum profit you can obtain from this transaction.\n",
    "\n",
    "Return the maximum profit you can achieve from this transaction. If you cannot obtain any profit, return 0.\n",
    "\n",
    "## Example 1:\n",
    "\n",
    "Input: [7,1,5,3,6,4]\n",
    "Output: 5\n",
    "Explanation: Buy on day 2 (stock price = 1) and sell on day 5 (stock price = 6), maximum profit = 6-1 = 5.\n",
    "Note that the profit cannot be 7-1 = 6 because the selling price must be greater than the buying price, and you cannot sell the stock before buying it.\n",
    "\n",
    "## Example 2:\n",
    "\n",
    "Input: prices = [7,6,4,3,1]\n",
    "Output: 0\n",
    "Explanation: In this case, no transactions are completed, so the maximum profit is 0."
   ],
   "metadata": {
    "collapsed": false
   },
   "id": "4dc746a806b946d3"
  },
  {
   "cell_type": "markdown",
   "source": [
    "# Code Implement"
   ],
   "metadata": {
    "collapsed": false
   },
   "id": "3678e1e51f8b207"
  },
  {
   "cell_type": "code",
   "execution_count": 17,
   "outputs": [],
   "source": [
    "def max_profit(prices: [int]) -> int:\n",
    "    if not prices or len(prices) < 2:\n",
    "        return 0\n",
    "\n",
    "    part_min_price = prices[0]\n",
    "    max_profit = 0\n",
    "\n",
    "    for current_price in prices:\n",
    "        if current_price < part_min_price:\n",
    "            # Why we need to update the part min price ?\n",
    "            # \n",
    "            # Because we already saved max profit to variable max_profit which is calculated by previous part min price\n",
    "            # Hence, the previous part min price is useless for us. \n",
    "            # We need to try to use the new part min price to calculate the new part profit and then compare the new part profit and existing saved variable max_profit\n",
    "            part_min_price = current_price\n",
    "        else:\n",
    "            current_part_profit = current_price - part_min_price\n",
    "            max_profit = max(max_profit, current_part_profit)\n",
    "\n",
    "    return max_profit"
   ],
   "metadata": {
    "collapsed": false,
    "ExecuteTime": {
     "end_time": "2023-09-17T12:16:37.861483Z",
     "start_time": "2023-09-17T12:16:37.849439Z"
    }
   },
   "id": "1df77535dbbe1eab"
  },
  {
   "cell_type": "markdown",
   "source": [],
   "metadata": {
    "collapsed": false
   },
   "id": "cb73ab03098eb749"
  },
  {
   "cell_type": "markdown",
   "source": [
    "# Verification"
   ],
   "metadata": {
    "collapsed": false
   },
   "id": "452a21fe351aea8c"
  },
  {
   "cell_type": "code",
   "execution_count": 18,
   "outputs": [
    {
     "data": {
      "text/plain": "5"
     },
     "execution_count": 18,
     "metadata": {},
     "output_type": "execute_result"
    }
   ],
   "source": [
    "max_profit([7,1,5,3,6,4])"
   ],
   "metadata": {
    "collapsed": false,
    "ExecuteTime": {
     "end_time": "2023-09-17T12:16:37.863924Z",
     "start_time": "2023-09-17T12:16:37.854991Z"
    }
   },
   "id": "6b0d368005691793"
  },
  {
   "cell_type": "code",
   "execution_count": 19,
   "outputs": [
    {
     "data": {
      "text/plain": "0"
     },
     "execution_count": 19,
     "metadata": {},
     "output_type": "execute_result"
    }
   ],
   "source": [
    "max_profit([7,6,4,3,1])"
   ],
   "metadata": {
    "collapsed": false,
    "ExecuteTime": {
     "end_time": "2023-09-17T12:16:37.875333Z",
     "start_time": "2023-09-17T12:16:37.858345Z"
    }
   },
   "id": "56362337e8d745ba"
  },
  {
   "cell_type": "markdown",
   "source": [
    "# Title: Best Time to Buy and Sell Stocks II\n",
    "\n",
    "## Description:\n",
    "You are given an integer array prices, where prices[i] represents the price of a certain stock on the i-th day.\n",
    "\n",
    "On each day, you can decide whether to buy and/or sell the stock. You can hold at most one stock at any time. You are also allowed to buy and sell on the same day.\n",
    "\n",
    "Return the maximum profit you can achieve.\n",
    "\n",
    "## Example 1:\n",
    "Input: prices = [7,1,5,3,6,4]\n",
    "Output: 7\n",
    "Explanation: Buy on day 2 (price = 1) and sell on day 3 (price = 5), the profit is 5 - 1 = 4. Then, buy on day 4 (price = 3) and sell on day 5 (price = 6), the profit is 6 - 3 = 3. Total profit is 4 + 3 = 7.\n",
    "\n",
    "## Example 2:\n",
    "Input: prices = [1,2,3,4,5]\n",
    "Output: 4\n",
    "Explanation: Buy on day 1 (price = 1) and sell on day 5 (price = 5), the profit is 5 - 1 = 4. Total profit is 4.\n",
    "\n",
    "## Example 3:\n",
    "Input: prices = [7,6,4,3,1]\n",
    "Output: 0\n",
    "Explanation: In this case, no transactions are done, so the maximum profit is 0."
   ],
   "metadata": {
    "collapsed": false
   },
   "id": "4e5420bb5e083710"
  },
  {
   "cell_type": "markdown",
   "source": [
    "# Code Implement"
   ],
   "metadata": {
    "collapsed": false
   },
   "id": "4582fa4efabedcb4"
  },
  {
   "cell_type": "code",
   "execution_count": 20,
   "outputs": [],
   "source": [
    "def max_profit(prices):\n",
    "    if not prices:\n",
    "        return 0\n",
    "\n",
    "    # 1. At the end of day, we only have two choices : hold(buy) it or not hold(sell) it\n",
    "    # 2. The current profits depend on the previous day's profits\n",
    "    #   2.1. If we hold it current day, \n",
    "    #       2.1.1 if we hold it in previous day, it means that we needn't buy it again in current day. \n",
    "    #             The current hold_profit should be (previous hold_profit).\n",
    "    #       2.1.1 if we do not hold it in previous day, it means that we need to buy it in current day.\n",
    "    #             The current hold_profit should be (previous not_hold_profit + current price).\n",
    "    #   2.2. If we do not hold it current day, \n",
    "    #       2.2.1 if we do not hold it in previous day, it means that we needn't sell it again in current day. \n",
    "    #             The current not_hold_profit should be (previous not_hold_profit).\n",
    "    #       2.2.1 if we hold it in previous day, it means that we need to sell it in current day. \n",
    "    #             The current not_hold_profit should be (previous hold_profit + current price).\n",
    "    # we use two variables to express the current \n",
    "    previous_hold_profit = -prices[0]\n",
    "    previous_not_hold_profit = 0\n",
    "\n",
    "    for i in range(1, len(prices)):\n",
    "        current_hold_profit = max(previous_hold_profit, previous_not_hold_profit - prices[i])\n",
    "        current_not_hold_profit = max(previous_not_hold_profit, previous_hold_profit + prices[i])\n",
    "\n",
    "        previous_hold_profit = current_hold_profit\n",
    "        previous_not_hold_profit = current_not_hold_profit\n",
    "\n",
    "    return max(previous_hold_profit, previous_not_hold_profit)"
   ],
   "metadata": {
    "collapsed": false,
    "ExecuteTime": {
     "end_time": "2023-09-17T12:16:37.876591Z",
     "start_time": "2023-09-17T12:16:37.860962Z"
    }
   },
   "id": "e2b4d751cba4d6b"
  },
  {
   "cell_type": "markdown",
   "source": [
    "# Verification"
   ],
   "metadata": {
    "collapsed": false
   },
   "id": "b5486c261610108e"
  },
  {
   "cell_type": "code",
   "execution_count": 21,
   "outputs": [
    {
     "data": {
      "text/plain": "7"
     },
     "execution_count": 21,
     "metadata": {},
     "output_type": "execute_result"
    }
   ],
   "source": [
    "max_profit([7,1,5,3,6,4])"
   ],
   "metadata": {
    "collapsed": false,
    "ExecuteTime": {
     "end_time": "2023-09-17T12:16:37.877294Z",
     "start_time": "2023-09-17T12:16:37.863395Z"
    }
   },
   "id": "868f4af0cab41ba0"
  },
  {
   "cell_type": "code",
   "execution_count": 22,
   "outputs": [
    {
     "data": {
      "text/plain": "4"
     },
     "execution_count": 22,
     "metadata": {},
     "output_type": "execute_result"
    }
   ],
   "source": [
    "max_profit([1,2,3,4,5])"
   ],
   "metadata": {
    "collapsed": false,
    "ExecuteTime": {
     "end_time": "2023-09-17T12:16:37.912290Z",
     "start_time": "2023-09-17T12:16:37.865842Z"
    }
   },
   "id": "ebf68e9533c730f3"
  },
  {
   "cell_type": "code",
   "execution_count": 23,
   "outputs": [
    {
     "data": {
      "text/plain": "0"
     },
     "execution_count": 23,
     "metadata": {},
     "output_type": "execute_result"
    }
   ],
   "source": [
    "max_profit([7,6,4,3,1])"
   ],
   "metadata": {
    "collapsed": false,
    "ExecuteTime": {
     "end_time": "2023-09-17T12:16:37.912586Z",
     "start_time": "2023-09-17T12:16:37.867812Z"
    }
   },
   "id": "db9a539062a8d281"
  }
 ],
 "metadata": {
  "kernelspec": {
   "display_name": "Python 3",
   "language": "python",
   "name": "python3"
  },
  "language_info": {
   "codemirror_mode": {
    "name": "ipython",
    "version": 2
   },
   "file_extension": ".py",
   "mimetype": "text/x-python",
   "name": "python",
   "nbconvert_exporter": "python",
   "pygments_lexer": "ipython2",
   "version": "2.7.6"
  }
 },
 "nbformat": 4,
 "nbformat_minor": 5
}
