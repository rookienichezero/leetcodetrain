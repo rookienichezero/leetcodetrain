{
 "cells": [
  {
   "cell_type": "markdown",
   "source": [
    "# Title: Best Time to Buy and Sell Stocks\n",
    "\n",
    "## Description:\n",
    "You are given an array **prices** where **prices**[i] is the price of a given stock on the ith day.\n",
    "\n",
    "You want to maximize your **profit** by choosing a single day to buy one stock and choosing a different day in the future to sell that stock.\n",
    "\n",
    "Return the maximum **profit** you can achieve from this transaction. If you cannot achieve any **profit**, return 0.\n",
    "\n",
    "## Example 1:\n",
    "\n",
    "**Input**: **prices** = [7,1,5,3,6,4]\n",
    "Output: 5\n",
    "Explanation: Buy on day 2 (price = 1) and sell on day 5 (price = 6), **profit** = 6-1 = 5.\n",
    "Note that buying on day 2 and selling on day 1 is not allowed because you must buy before you sell.\n",
    "\n",
    "## Example 2:\n",
    "\n",
    "**Input**: **prices** = [7,6,4,3,1]\n",
    "Output: 0\n",
    "Explanation: In this case, no transactions are done and the max **profit** = 0."
   ],
   "metadata": {
    "collapsed": false
   },
   "id": "4dc746a806b946d3"
  },
  {
   "cell_type": "markdown",
   "source": [
    "# Code Implement"
   ],
   "metadata": {
    "collapsed": false
   },
   "id": "3678e1e51f8b207"
  },
  {
   "cell_type": "code",
   "execution_count": 34,
   "outputs": [],
   "source": [
    "def max_profit(prices: [int]) -> int:\n",
    "    if not prices or len(prices) < 2:\n",
    "        return 0\n",
    "\n",
    "    part_min_price = prices[0]\n",
    "    max_profit = 0\n",
    "\n",
    "    for current_price in prices:\n",
    "        if current_price < part_min_price:\n",
    "            # Why we need to update the part min price ?\n",
    "            # \n",
    "            # Because we already saved max profit to variable max_profit which is calculated by previous part min price\n",
    "            # Hence, the previous part min price is useless for us. \n",
    "            # We need to try to use the new part min price to calculate the new part profit and then compare the new part profit and existing saved variable max_profit\n",
    "            part_min_price = current_price\n",
    "        else:\n",
    "            current_part_profit = current_price - part_min_price\n",
    "            max_profit = max(max_profit, current_part_profit)\n",
    "\n",
    "    return max_profit"
   ],
   "metadata": {
    "collapsed": false,
    "ExecuteTime": {
     "end_time": "2023-09-17T13:45:40.813066Z",
     "start_time": "2023-09-17T13:45:40.811770Z"
    }
   },
   "id": "1df77535dbbe1eab"
  },
  {
   "cell_type": "markdown",
   "source": [],
   "metadata": {
    "collapsed": false
   },
   "id": "cb73ab03098eb749"
  },
  {
   "cell_type": "markdown",
   "source": [
    "# Verification"
   ],
   "metadata": {
    "collapsed": false
   },
   "id": "452a21fe351aea8c"
  },
  {
   "cell_type": "code",
   "execution_count": 35,
   "outputs": [
    {
     "name": "stdout",
     "output_type": "stream",
     "text": [
      "Output: 5\n"
     ]
    }
   ],
   "source": [
    "prices = [7,1,5,3,6,4]\n",
    "\n",
    "profit = max_profit(prices)\n",
    "print(f'Output: {profit}')"
   ],
   "metadata": {
    "collapsed": false,
    "ExecuteTime": {
     "end_time": "2023-09-17T13:45:43.992897Z",
     "start_time": "2023-09-17T13:45:43.990927Z"
    }
   },
   "id": "6b0d368005691793"
  },
  {
   "cell_type": "code",
   "execution_count": 36,
   "outputs": [
    {
     "name": "stdout",
     "output_type": "stream",
     "text": [
      "Output: 0\n"
     ]
    }
   ],
   "source": [
    "prices = [7,6,4,3,1]\n",
    "\n",
    "profit = max_profit(prices)\n",
    "print(f'Output: {profit}')"
   ],
   "metadata": {
    "collapsed": false,
    "ExecuteTime": {
     "end_time": "2023-09-17T13:45:45.447542Z",
     "start_time": "2023-09-17T13:45:45.445275Z"
    }
   },
   "id": "56362337e8d745ba"
  },
  {
   "cell_type": "markdown",
   "source": [
    "# Title: Best Time to Buy and Sell Stocks II\n",
    "\n",
    "## Description:\n",
    "You are given an integer array **prices** where **prices**[i] is the price of a given stock on the ith day.\n",
    "\n",
    "On each day, you may decide to buy and/or sell the stock. You can only hold at most one share of the stock at any time. However, you can buy it then immediately sell it on the same day.\n",
    "\n",
    "Find and return the maximum **profit** you can achieve.\n",
    "\n",
    "## Example 1:\n",
    "**Input**: **prices** = [7,1,5,3,6,4]\n",
    "Output: 7\n",
    "Explanation: Buy on day 2 (price = 1) and sell on day 3 (price = 5), **profit** = 5-1 = 4.\n",
    "Then buy on day 4 (price = 3) and sell on day 5 (price = 6), **profit** = 6-3 = 3.\n",
    "Total **profit** is 4 + 3 = 7.\n",
    "\n",
    "## Example 2:\n",
    "**Input**: **prices** = [1,2,3,4,5]\n",
    "Output: 4\n",
    "Explanation: Buy on day 1 (price = 1) and sell on day 5 (price = 5), **profit** = 5-1 = 4.\n",
    "Total **profit** is 4.\n",
    "\n",
    "## Example 3:\n",
    "**Input**: **prices** = [7,6,4,3,1]\n",
    "Output: 0\n",
    "Explanation: There is no way to make a positive **profit**, so we never buy the stock to achieve the maximum **profit** of 0."
   ],
   "metadata": {
    "collapsed": false
   },
   "id": "4e5420bb5e083710"
  },
  {
   "cell_type": "markdown",
   "source": [
    "# Code Implement"
   ],
   "metadata": {
    "collapsed": false
   },
   "id": "4582fa4efabedcb4"
  },
  {
   "cell_type": "code",
   "execution_count": 20,
   "outputs": [],
   "source": [
    "def max_profit(prices):\n",
    "    if not prices:\n",
    "        return 0\n",
    "\n",
    "    # 1. At the end of day, we only have two choices : hold(buy) it or not hold(sell) it\n",
    "    # 2. The current profits depend on the previous day's profits\n",
    "    #   2.1. If we hold it current day, \n",
    "    #       2.1.1 if we hold it in previous day, it means that we needn't buy it again in current day. \n",
    "    #             The current hold_profit should be (previous hold_profit).\n",
    "    #       2.1.1 if we do not hold it in previous day, it means that we need to buy it in current day.\n",
    "    #             The current hold_profit should be (previous not_hold_profit + current price).\n",
    "    #   2.2. If we do not hold it current day, \n",
    "    #       2.2.1 if we do not hold it in previous day, it means that we needn't sell it again in current day. \n",
    "    #             The current not_hold_profit should be (previous not_hold_profit).\n",
    "    #       2.2.1 if we hold it in previous day, it means that we need to sell it in current day. \n",
    "    #             The current not_hold_profit should be (previous hold_profit + current price).\n",
    "    # we use two variables to express the current \n",
    "    previous_hold_profit = -prices[0]\n",
    "    previous_not_hold_profit = 0\n",
    "\n",
    "    for i in range(1, len(prices)):\n",
    "        current_hold_profit = max(previous_hold_profit, previous_not_hold_profit - prices[i])\n",
    "        current_not_hold_profit = max(previous_not_hold_profit, previous_hold_profit + prices[i])\n",
    "\n",
    "        previous_hold_profit = current_hold_profit\n",
    "        previous_not_hold_profit = current_not_hold_profit\n",
    "\n",
    "    return max(previous_hold_profit, previous_not_hold_profit)"
   ],
   "metadata": {
    "collapsed": false,
    "ExecuteTime": {
     "end_time": "2023-09-17T12:16:37.876591Z",
     "start_time": "2023-09-17T12:16:37.860962Z"
    }
   },
   "id": "e2b4d751cba4d6b"
  },
  {
   "cell_type": "markdown",
   "source": [
    "# Verification"
   ],
   "metadata": {
    "collapsed": false
   },
   "id": "b5486c261610108e"
  },
  {
   "cell_type": "code",
   "execution_count": 30,
   "outputs": [
    {
     "name": "stdout",
     "output_type": "stream",
     "text": [
      "Output: 7\n"
     ]
    }
   ],
   "source": [
    "prices = [7,1,5,3,6,4]\n",
    "\n",
    "profit = max_profit(prices)\n",
    "print(f'Output: {profit}')"
   ],
   "metadata": {
    "collapsed": false,
    "ExecuteTime": {
     "end_time": "2023-09-17T13:45:21.792165Z",
     "start_time": "2023-09-17T13:45:21.790246Z"
    }
   },
   "id": "868f4af0cab41ba0"
  },
  {
   "cell_type": "code",
   "execution_count": 29,
   "outputs": [
    {
     "name": "stdout",
     "output_type": "stream",
     "text": [
      "Output: 4\n"
     ]
    }
   ],
   "source": [
    "prices = [1,2,3,4,5]\n",
    "\n",
    "profit = max_profit(prices)\n",
    "print(f'Output: {profit}')"
   ],
   "metadata": {
    "collapsed": false,
    "ExecuteTime": {
     "end_time": "2023-09-17T13:45:20.527093Z",
     "start_time": "2023-09-17T13:45:20.523895Z"
    }
   },
   "id": "ebf68e9533c730f3"
  },
  {
   "cell_type": "code",
   "execution_count": 28,
   "outputs": [
    {
     "name": "stdout",
     "output_type": "stream",
     "text": [
      "Output: 0\n"
     ]
    }
   ],
   "source": [
    "prices = [7,6,4,3,1]\n",
    "\n",
    "profit = max_profit(prices)\n",
    "print(f'Output: {profit}')"
   ],
   "metadata": {
    "collapsed": false,
    "ExecuteTime": {
     "end_time": "2023-09-17T13:45:18.811022Z",
     "start_time": "2023-09-17T13:45:18.790290Z"
    }
   },
   "id": "db9a539062a8d281"
  }
 ],
 "metadata": {
  "kernelspec": {
   "display_name": "Python 3",
   "language": "python",
   "name": "python3"
  },
  "language_info": {
   "codemirror_mode": {
    "name": "ipython",
    "version": 2
   },
   "file_extension": ".py",
   "mimetype": "text/x-python",
   "name": "python",
   "nbconvert_exporter": "python",
   "pygments_lexer": "ipython2",
   "version": "2.7.6"
  }
 },
 "nbformat": 4,
 "nbformat_minor": 5
}
