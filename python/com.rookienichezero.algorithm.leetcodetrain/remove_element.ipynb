{
 "cells": [
  {
   "cell_type": "markdown",
   "source": [],
   "metadata": {
    "collapsed": false
   },
   "id": "49f37e33f204ac39"
  },
  {
   "cell_type": "markdown",
   "source": [
    "# Title: Remove Element\n",
    "\n",
    "## Description:\n",
    "Given an integer array **nums** and an integer **val**, remove all occurrences of **val** in **nums** in-place. The order of the elements may be changed. Then return the number of elements in **nums** which are not equal to **val**.\n",
    "\n",
    "Consider the number of elements in **nums** which are not equal to **val** be **k**, to get accepted, you need to do the following things:\n",
    "- Change the array **nums** such that the first **k** elements of **nums** contain the elements which are not equal to **val**. The remaining elements of **nums** are not important as well as the size of **nums**.\n",
    "- Return **k**.\n",
    "\n",
    "## Example 1:\n",
    "\n",
    "Input: **nums** = [3,2,2,3], **val** = 3\n",
    "Output: 2, **nums** = [2,2,_,_]\n",
    "Explanation: Your function should return **k** = 2, with the first two elements of **nums** being 2.\n",
    "It does not matter what you leave beyond the returned **k** (hence they are underscores).\n",
    "\n",
    "## Example 2:\n",
    "\n",
    "Input: **nums** = [0,1,2,2,3,0,4,2], **val** = 2\n",
    "Output: 5, **nums** = [0,1,4,0,3,_,_,_]\n",
    "Explanation: Your function should return **k** = 5, with the first five elements of **nums** containing 0, 0, 1, 3, and 4.\n",
    "Note that the five elements can be returned in any order.\n",
    "It does not matter what you leave beyond the returned **k** (hence they are underscores)."
   ],
   "metadata": {
    "collapsed": false
   },
   "id": "8388940f7347ecc"
  },
  {
   "cell_type": "markdown",
   "source": [
    "# Code Implement"
   ],
   "metadata": {
    "collapsed": false
   },
   "id": "cfc800303c3a1ba9"
  },
  {
   "cell_type": "code",
   "execution_count": 6,
   "outputs": [],
   "source": [
    "def remove_element(nums: [int], val: int) -> int:\n",
    "    if nums is None or len(nums) == 0:\n",
    "        return 0\n",
    "\n",
    "    cursor_override = 0\n",
    "    index = 0\n",
    "    while index < len(nums):\n",
    "        if nums[index] != val:\n",
    "            nums[cursor_override] = nums[index]\n",
    "            cursor_override += 1\n",
    "        index += 1\n",
    "\n",
    "    return cursor_override"
   ],
   "metadata": {
    "collapsed": false,
    "ExecuteTime": {
     "end_time": "2023-09-17T12:54:14.560581Z",
     "start_time": "2023-09-17T12:54:14.552601Z"
    }
   },
   "id": "357e290e35b3d528"
  },
  {
   "cell_type": "markdown",
   "source": [
    "# Verification"
   ],
   "metadata": {
    "collapsed": false
   },
   "id": "12e1e648c1236f62"
  },
  {
   "cell_type": "code",
   "execution_count": 7,
   "outputs": [
    {
     "name": "stdout",
     "output_type": "stream",
     "text": [
      "Output: 2, nums = [2, 2]\n"
     ]
    }
   ],
   "source": [
    "nums = [3,2,2,3]\n",
    "val = 3\n",
    "\n",
    "new_size = remove_element(nums, val)\n",
    "\n",
    "print(f'Output: {new_size}, nums = {nums[:new_size]}')"
   ],
   "metadata": {
    "collapsed": false,
    "ExecuteTime": {
     "end_time": "2023-09-17T12:54:15.824694Z",
     "start_time": "2023-09-17T12:54:15.815941Z"
    }
   },
   "id": "862c3c267340924d"
  },
  {
   "cell_type": "code",
   "execution_count": 8,
   "outputs": [
    {
     "name": "stdout",
     "output_type": "stream",
     "text": [
      "Output: 5, nums = [0, 1, 3, 0, 4]\n"
     ]
    }
   ],
   "source": [
    "nums = [0,1,2,2,3,0,4,2]\n",
    "val = 2\n",
    "\n",
    "new_size = remove_element(nums, val)\n",
    "\n",
    "print(f'Output: {new_size}, nums = {nums[:new_size]}')"
   ],
   "metadata": {
    "collapsed": false,
    "ExecuteTime": {
     "end_time": "2023-09-17T12:54:17.646449Z",
     "start_time": "2023-09-17T12:54:17.639702Z"
    }
   },
   "id": "bccc4f74e6e0b5f9"
  }
 ],
 "metadata": {
  "kernelspec": {
   "display_name": "Python 3",
   "language": "python",
   "name": "python3"
  },
  "language_info": {
   "codemirror_mode": {
    "name": "ipython",
    "version": 2
   },
   "file_extension": ".py",
   "mimetype": "text/x-python",
   "name": "python",
   "nbconvert_exporter": "python",
   "pygments_lexer": "ipython2",
   "version": "2.7.6"
  }
 },
 "nbformat": 4,
 "nbformat_minor": 5
}
