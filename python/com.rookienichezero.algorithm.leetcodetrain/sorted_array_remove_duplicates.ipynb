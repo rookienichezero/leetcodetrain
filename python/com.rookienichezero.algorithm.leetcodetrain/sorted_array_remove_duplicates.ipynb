{
 "cells": [
  {
   "cell_type": "markdown",
   "source": [],
   "metadata": {
    "collapsed": false
   },
   "id": "dab4a4d0096149b3"
  },
  {
   "cell_type": "markdown",
   "source": [
    "# Title: Remove Duplicates from Sorted Array\n",
    "\n",
    "## Description:\n",
    "Given a sorted array nums, you need to remove duplicates in-place such that each element appears only once, and return the new length. The relative order of the elements should be preserved.\n",
    "\n",
    "Consider that the unique elements in nums are denoted by k. You need to do the following to ensure your solution is accepted:\n",
    "- Modify the nums array to include only the first k unique elements, preserving their initial order of appearance in nums. The remaining elements in nums after k are not important.\n",
    "- Return k.\n",
    "\n",
    "## Example 1:\n",
    "\n",
    "Input: nums = [1,1,2]\n",
    "Output: 2, nums = [1,2,_]\n",
    "Explanation: The function should return a new length of 2, and the first two elements of the modified array are 1 and 2. You do not need to consider the elements after the new length.\n",
    "\n",
    "## Example 2:\n",
    "\n",
    "Input: nums = [0,0,1,1,1,2,2,3,3,4]\n",
    "Output: 5, nums = [0,1,2,3,4]\n",
    "Explanation: The function should return a new length of 5, and the first five elements of the modified array are 0, 1, 2, 3, and 4. You do not need to consider the elements after the new length."
   ],
   "metadata": {
    "collapsed": false
   },
   "id": "6d1613b734c3dc46"
  },
  {
   "cell_type": "markdown",
   "source": [
    "# Code Implement"
   ],
   "metadata": {
    "collapsed": false
   },
   "id": "70931055a12b912c"
  },
  {
   "cell_type": "code",
   "execution_count": 14,
   "outputs": [],
   "source": [
    "def remove_duplicates(nums: [int]) -> int:\n",
    "    if nums is None or len(nums) == 0:\n",
    "        return 0\n",
    "\n",
    "    gap = 1\n",
    "    cursor_pre = 0\n",
    "    index = cursor_pre + gap\n",
    "    while index < len(nums):\n",
    "        if nums[cursor_pre] != nums[index]:\n",
    "            if index - cursor_pre > gap:\n",
    "                nums[cursor_pre + gap] = nums[index]\n",
    "            cursor_pre += 1\n",
    "        index += 1\n",
    "    return cursor_pre + gap"
   ],
   "metadata": {
    "collapsed": false,
    "ExecuteTime": {
     "end_time": "2023-09-17T12:34:25.197569Z",
     "start_time": "2023-09-17T12:34:25.192774Z"
    }
   },
   "id": "9583f5af5a056ce4"
  },
  {
   "cell_type": "markdown",
   "source": [
    "# Verification"
   ],
   "metadata": {
    "collapsed": false
   },
   "id": "dc906c3075158884"
  },
  {
   "cell_type": "code",
   "execution_count": 16,
   "outputs": [
    {
     "name": "stdout",
     "output_type": "stream",
     "text": [
      "Output: 2, nums = [1, 2]\n"
     ]
    }
   ],
   "source": [
    "nums = [1,1,2]\n",
    "\n",
    "new_size = remove_duplicates(nums)\n",
    "\n",
    "print(f'Output: {new_size}, nums = {nums[:new_size]}')"
   ],
   "metadata": {
    "collapsed": false,
    "ExecuteTime": {
     "end_time": "2023-09-17T12:35:38.835105Z",
     "start_time": "2023-09-17T12:35:38.830038Z"
    }
   },
   "id": "7174409ea692e5af"
  },
  {
   "cell_type": "code",
   "execution_count": 17,
   "outputs": [
    {
     "name": "stdout",
     "output_type": "stream",
     "text": [
      "Output: 5, nums = [0, 1, 2, 3, 4]\n"
     ]
    }
   ],
   "source": [
    "nums = [0,0,1,1,1,2,2,3,3,4]\n",
    "\n",
    "new_size = remove_duplicates(nums)\n",
    "\n",
    "print(f'Output: {new_size}, nums = {nums[:new_size]}')"
   ],
   "metadata": {
    "collapsed": false,
    "ExecuteTime": {
     "end_time": "2023-09-17T12:35:40.212827Z",
     "start_time": "2023-09-17T12:35:40.209890Z"
    }
   },
   "id": "952ce8be355da157"
  },
  {
   "cell_type": "markdown",
   "source": [],
   "metadata": {
    "collapsed": false
   },
   "id": "9905f138318dc2ec"
  },
  {
   "cell_type": "markdown",
   "source": [
    "# Title: Remove Duplicates from Sorted Array II\n",
    "\n",
    "## Description:\n",
    "Given a sorted array nums, you need to remove duplicates in-place such that duplicates appeared at most twice and return the new length.\n",
    "\n",
    "Do not allocate extra space for another array; you must do this by modifying the input array in-place with O(1) extra memory.\n",
    "\n",
    "## Example 1:\n",
    "\n",
    "Input: nums = [1,1,1,2,2,3]\n",
    "Output: 5, nums = [1,1,2,2,3]\n",
    "Explanation: The function should return the new length 5, and the first five elements of the modified array are 1, 1, 2, 2, 3. You do not need to consider the elements after the new length.\n",
    "\n",
    "## Example 2:\n",
    "\n",
    "Input: nums = [0,0,1,1,1,1,2,3,3]\n",
    "Output: 7, nums = [0,0,1,1,2,3,3]\n",
    "Explanation: The function should return the new length 7, and the first seven elements of the modified array are 0, 0, 1, 1, 2, 3, 3. You do not need to consider the elements after the new length."
   ],
   "metadata": {
    "collapsed": false
   },
   "id": "cc9a949c3d2bad3"
  },
  {
   "cell_type": "markdown",
   "source": [
    "# Code Implement"
   ],
   "metadata": {
    "collapsed": false
   },
   "id": "f2593fc65a8b18fe"
  },
  {
   "cell_type": "code",
   "execution_count": 20,
   "outputs": [],
   "source": [
    "def remove_duplicates(nums: [int]) -> int:\n",
    "    if nums is None or len(nums) == 0:\n",
    "        return 0\n",
    "\n",
    "    gap = 2\n",
    "    cursor_pre = 0\n",
    "    index = cursor_pre + gap\n",
    "    while index < len(nums):\n",
    "        if nums[cursor_pre] != nums[index]:\n",
    "            if index - cursor_pre > gap:\n",
    "                nums[cursor_pre + gap] = nums[index]\n",
    "            cursor_pre += 1\n",
    "        index += 1\n",
    "    return cursor_pre + gap"
   ],
   "metadata": {
    "collapsed": false,
    "ExecuteTime": {
     "end_time": "2023-09-17T12:36:18.948393Z",
     "start_time": "2023-09-17T12:36:18.937441Z"
    }
   },
   "id": "d9c8795dc2346368"
  },
  {
   "cell_type": "markdown",
   "source": [
    "# Verification"
   ],
   "metadata": {
    "collapsed": false
   },
   "id": "62e907681404851d"
  },
  {
   "cell_type": "code",
   "execution_count": 21,
   "outputs": [
    {
     "name": "stdout",
     "output_type": "stream",
     "text": [
      "Output: 5, nums = [1, 1, 2, 2, 3]\n"
     ]
    }
   ],
   "source": [
    "nums = [1,1,1,2,2,3]\n",
    "\n",
    "new_size = remove_duplicates(nums)\n",
    "\n",
    "print(f'Output: {new_size}, nums = {nums[:new_size]}')"
   ],
   "metadata": {
    "collapsed": false,
    "ExecuteTime": {
     "end_time": "2023-09-17T12:36:21.205487Z",
     "start_time": "2023-09-17T12:36:21.198933Z"
    }
   },
   "id": "61f649993bd2f9d4"
  },
  {
   "cell_type": "code",
   "execution_count": 22,
   "outputs": [
    {
     "name": "stdout",
     "output_type": "stream",
     "text": [
      "Output: 7, nums = [0, 0, 1, 1, 2, 3, 3]\n"
     ]
    }
   ],
   "source": [
    "nums = [0,0,1,1,1,1,2,3,3]\n",
    "\n",
    "new_size = remove_duplicates(nums)\n",
    "\n",
    "print(f'Output: {new_size}, nums = {nums[:new_size]}')"
   ],
   "metadata": {
    "collapsed": false,
    "ExecuteTime": {
     "end_time": "2023-09-17T12:36:22.380445Z",
     "start_time": "2023-09-17T12:36:22.377094Z"
    }
   },
   "id": "84a97916b7552133"
  }
 ],
 "metadata": {
  "kernelspec": {
   "display_name": "Python 3",
   "language": "python",
   "name": "python3"
  },
  "language_info": {
   "codemirror_mode": {
    "name": "ipython",
    "version": 2
   },
   "file_extension": ".py",
   "mimetype": "text/x-python",
   "name": "python",
   "nbconvert_exporter": "python",
   "pygments_lexer": "ipython2",
   "version": "2.7.6"
  }
 },
 "nbformat": 4,
 "nbformat_minor": 5
}
