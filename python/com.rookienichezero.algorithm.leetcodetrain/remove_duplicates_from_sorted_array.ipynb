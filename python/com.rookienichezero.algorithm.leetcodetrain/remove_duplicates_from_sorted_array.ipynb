{
 "cells": [
  {
   "cell_type": "markdown",
   "source": [],
   "metadata": {
    "collapsed": false
   },
   "id": "dab4a4d0096149b3"
  },
  {
   "cell_type": "markdown",
   "source": [
    "# Title: Remove Duplicates from Sorted Array\n",
    "\n",
    "## Description:\n",
    "Given an integer array **nums** sorted in non-decreasing order, remove the duplicates in-place such that each unique element appears only once. The relative order of the elements should be kept the same. Then return the number of unique elements in **nums**.\n",
    "\n",
    "Consider the number of unique elements of **nums** to be **k**, to get accepted, you need to do the following things:\n",
    "\n",
    "Change the array **nums** such that the first **k** elements of **nums** contain the unique elements in the order they were present in **nums** initially. The remaining elements of **nums** are not important as well as the size of **nums**.\n",
    "Return **k**.\n",
    "\n",
    "## Example 1:\n",
    "\n",
    "**Input**: **nums** = [1,1,2]\n",
    "Output: 2, **nums** = [1,2,_]\n",
    "Explanation: Your function should return **k** = 2, with the first two elements of **nums** being 1 and 2 respectively.\n",
    "It does not matter what you leave beyond the returned **k** (hence they are underscores).\n",
    "Example 2:\n",
    "\n",
    "## Example 2:\n",
    "\n",
    "**Input**: **nums** = [0,0,1,1,1,2,2,3,3,4]\n",
    "Output: 5, **nums** = [0,1,2,3,4,_,_,_,_,_]\n",
    "Explanation: Your function should return **k** = 5, with the first five elements of **nums** being 0, 1, 2, 3, and 4 respectively.\n",
    "It does not matter what you leave beyond the returned **k** (hence they are underscores)."
   ],
   "metadata": {
    "collapsed": false
   },
   "id": "6d1613b734c3dc46"
  },
  {
   "cell_type": "markdown",
   "source": [
    "# Code Implement"
   ],
   "metadata": {
    "collapsed": false
   },
   "id": "70931055a12b912c"
  },
  {
   "cell_type": "code",
   "execution_count": 23,
   "outputs": [],
   "source": [
    "def remove_duplicates(nums: [int]) -> int:\n",
    "    if nums is None or len(nums) == 0:\n",
    "        return 0\n",
    "\n",
    "    gap = 1\n",
    "    cursor_pre = 0\n",
    "    index = cursor_pre + gap\n",
    "    while index < len(nums):\n",
    "        if nums[cursor_pre] != nums[index]:\n",
    "            if index - cursor_pre > gap:\n",
    "                nums[cursor_pre + gap] = nums[index]\n",
    "            cursor_pre += 1\n",
    "        index += 1\n",
    "    return cursor_pre + gap"
   ],
   "metadata": {
    "collapsed": false,
    "ExecuteTime": {
     "end_time": "2023-09-17T13:48:28.816170Z",
     "start_time": "2023-09-17T13:48:28.688346Z"
    }
   },
   "id": "9583f5af5a056ce4"
  },
  {
   "cell_type": "markdown",
   "source": [
    "# Verification"
   ],
   "metadata": {
    "collapsed": false
   },
   "id": "dc906c3075158884"
  },
  {
   "cell_type": "code",
   "execution_count": 24,
   "outputs": [
    {
     "name": "stdout",
     "output_type": "stream",
     "text": [
      "Output: 2, nums = [1, 2]\n"
     ]
    }
   ],
   "source": [
    "nums = [1,1,2]\n",
    "\n",
    "new_size = remove_duplicates(nums)\n",
    "\n",
    "print(f'Output: {new_size}, nums = {nums[:new_size]}')"
   ],
   "metadata": {
    "collapsed": false,
    "ExecuteTime": {
     "end_time": "2023-09-17T13:48:28.858886Z",
     "start_time": "2023-09-17T13:48:28.708807Z"
    }
   },
   "id": "7174409ea692e5af"
  },
  {
   "cell_type": "code",
   "execution_count": 25,
   "outputs": [
    {
     "name": "stdout",
     "output_type": "stream",
     "text": [
      "Output: 5, nums = [0, 1, 2, 3, 4]\n"
     ]
    }
   ],
   "source": [
    "nums = [0,0,1,1,1,2,2,3,3,4]\n",
    "\n",
    "new_size = remove_duplicates(nums)\n",
    "\n",
    "print(f'Output: {new_size}, nums = {nums[:new_size]}')"
   ],
   "metadata": {
    "collapsed": false,
    "ExecuteTime": {
     "end_time": "2023-09-17T13:48:28.859525Z",
     "start_time": "2023-09-17T13:48:28.710841Z"
    }
   },
   "id": "952ce8be355da157"
  },
  {
   "cell_type": "markdown",
   "source": [],
   "metadata": {
    "collapsed": false
   },
   "id": "9905f138318dc2ec"
  },
  {
   "cell_type": "markdown",
   "source": [
    "# Title: Remove Duplicates from Sorted Array II\n",
    "\n",
    "## Description:\n",
    "Given an integer array **nums** sorted in non-decreasing order, remove some duplicates in-place such that each unique element appears at most twice. The relative order of the elements should be kept the same.\n",
    "\n",
    "Since it is impossible to change the length of the array in some languages, you must instead have the result be placed in the first part of the array **nums**. More formally, if there are **k** elements after removing the duplicates, then the first **k** elements of **nums** should hold the final result. It does not matter what you leave beyond the first **k** elements.\n",
    "\n",
    "Return **k** after placing the final result in the first **k** slots of **nums**.\n",
    "\n",
    "Do not allocate extra space for another array. You must do this by modifying the input array in-place with O(1) extra memory.\n",
    "\n",
    "Example 1:\n",
    "\n",
    "**Input**: **nums** = [1,1,1,2,2,3]\n",
    "Output: 5, **nums** = [1,1,2,2,3,_]\n",
    "Explanation: Your function should return **k** = 5, with the first five elements of **nums** being 1, 1, 2, 2 and 3 respectively.\n",
    "It does not matter what you leave beyond the returned **k** (hence they are underscores).\n",
    "Example 2:\n",
    "\n",
    "**Input**: **nums** = [0,0,1,1,1,1,2,3,3]\n",
    "Output: 7, **nums** = [0,0,1,1,2,3,3,_,_]\n",
    "Explanation: Your function should return **k** = 7, with the first seven elements of **nums** being 0, 0, 1, 1, 2, 3 and 3 respectively.\n",
    "It does not matter what you leave beyond the returned **k** (hence they are underscores)."
   ],
   "metadata": {
    "collapsed": false
   },
   "id": "cc9a949c3d2bad3"
  },
  {
   "cell_type": "markdown",
   "source": [
    "# Code Implement"
   ],
   "metadata": {
    "collapsed": false
   },
   "id": "f2593fc65a8b18fe"
  },
  {
   "cell_type": "code",
   "execution_count": 26,
   "outputs": [],
   "source": [
    "def remove_duplicates(nums: [int]) -> int:\n",
    "    if nums is None or len(nums) == 0:\n",
    "        return 0\n",
    "\n",
    "    gap = 2\n",
    "    cursor_pre = 0\n",
    "    index = cursor_pre + gap\n",
    "    while index < len(nums):\n",
    "        if nums[cursor_pre] != nums[index]:\n",
    "            if index - cursor_pre > gap:\n",
    "                nums[cursor_pre + gap] = nums[index]\n",
    "            cursor_pre += 1\n",
    "        index += 1\n",
    "    return cursor_pre + gap"
   ],
   "metadata": {
    "collapsed": false,
    "ExecuteTime": {
     "end_time": "2023-09-17T13:48:28.868096Z",
     "start_time": "2023-09-17T13:48:28.761595Z"
    }
   },
   "id": "d9c8795dc2346368"
  },
  {
   "cell_type": "markdown",
   "source": [
    "# Verification"
   ],
   "metadata": {
    "collapsed": false
   },
   "id": "62e907681404851d"
  },
  {
   "cell_type": "code",
   "execution_count": 27,
   "outputs": [
    {
     "name": "stdout",
     "output_type": "stream",
     "text": [
      "Output: 5, nums = [1, 1, 2, 2, 3]\n"
     ]
    }
   ],
   "source": [
    "nums = [1,1,1,2,2,3]\n",
    "\n",
    "new_size = remove_duplicates(nums)\n",
    "\n",
    "print(f'Output: {new_size}, nums = {nums[:new_size]}')"
   ],
   "metadata": {
    "collapsed": false,
    "ExecuteTime": {
     "end_time": "2023-09-17T13:48:28.872320Z",
     "start_time": "2023-09-17T13:48:28.763871Z"
    }
   },
   "id": "61f649993bd2f9d4"
  },
  {
   "cell_type": "code",
   "execution_count": 28,
   "outputs": [
    {
     "name": "stdout",
     "output_type": "stream",
     "text": [
      "Output: 7, nums = [0, 0, 1, 1, 2, 3, 3]\n"
     ]
    }
   ],
   "source": [
    "nums = [0,0,1,1,1,1,2,3,3]\n",
    "\n",
    "new_size = remove_duplicates(nums)\n",
    "\n",
    "print(f'Output: {new_size}, nums = {nums[:new_size]}')"
   ],
   "metadata": {
    "collapsed": false,
    "ExecuteTime": {
     "end_time": "2023-09-17T13:48:28.875257Z",
     "start_time": "2023-09-17T13:48:28.767098Z"
    }
   },
   "id": "84a97916b7552133"
  }
 ],
 "metadata": {
  "kernelspec": {
   "display_name": "Python 3",
   "language": "python",
   "name": "python3"
  },
  "language_info": {
   "codemirror_mode": {
    "name": "ipython",
    "version": 2
   },
   "file_extension": ".py",
   "mimetype": "text/x-python",
   "name": "python",
   "nbconvert_exporter": "python",
   "pygments_lexer": "ipython2",
   "version": "2.7.6"
  }
 },
 "nbformat": 4,
 "nbformat_minor": 5
}
