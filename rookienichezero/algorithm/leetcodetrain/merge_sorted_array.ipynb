{
 "cells": [
  {
   "cell_type": "markdown",
   "source": [],
   "metadata": {
    "collapsed": false
   },
   "id": "49f37e33f204ac39"
  },
  {
   "cell_type": "markdown",
   "source": [
    "# Title: Remove Element\n",
    "\n",
    "## Description:\n",
    "You are given two integer arrays **nums1** and **nums2**, sorted in non-decreasing order, and two integers **m** and **n**, representing the number of elements in **nums1** and **nums2** respectively.\n",
    "\n",
    "Merge **nums1** and **nums2** into a single array sorted in non-decreasing order.\n",
    "\n",
    "The final sorted array should not be returned by the function, but instead be stored inside the array **nums1**. To accommodate this, **nums1** has a length of **m** + **n**, where the first **m** elements denote the elements that should be merged, and the last **n** elements are set to 0 and should be ignored. **nums2** has a length of **n**.\n",
    "\n",
    "## Example 1:\n",
    "\n",
    "**Input**: **nums1** = [1,2,3,0,0,0], **m** = 3, **nums2** = [2,5,6], **n** = 3\n",
    "Output: [1,2,2,3,5,6]\n",
    "Explanation: The arrays we are merging are [1,2,3] and [2,5,6].\n",
    "The result of the merge is [1,2,2,3,5,6] with the underlined elements coming from **nums1**.\n",
    "\n",
    "## Example 2:\n",
    "\n",
    "**Input**: **nums1** = [1], **m** = 1, **nums2** = [], **n** = 0\n",
    "Output: [1]\n",
    "Explanation: The arrays we are merging are [1] and [].\n",
    "The result of the merge is [1].\n",
    "\n",
    "## Example 3:\n",
    "\n",
    "**Input**: **nums1** = [0], **m** = 0, **nums2** = [1], **n** = 1\n",
    "Output: [1]\n",
    "Explanation: The arrays we are merging are [] and [1].\n",
    "The result of the merge is [1].\n",
    "Note that because **m** = 0, there are no elements in **nums1**. The 0 is only there to ensure the merge result can fit in **nums1**."
   ],
   "metadata": {
    "collapsed": false
   },
   "id": "8388940f7347ecc"
  },
  {
   "cell_type": "markdown",
   "source": [
    "# Code Implement"
   ],
   "metadata": {
    "collapsed": false
   },
   "id": "cfc800303c3a1ba9"
  },
  {
   "cell_type": "code",
   "execution_count": 20,
   "outputs": [],
   "source": [
    "def merge(nums1, m, nums2, n):\n",
    "    if not nums1 or not nums2:\n",
    "        return\n",
    "\n",
    "    if len(nums1) == 1 and m == 0:\n",
    "        nums1[0] = nums2[0]\n",
    "        return\n",
    "\n",
    "    # if we define three cursors to operate the whole process, it should be more easily to understand\n",
    "    # nums1 = [1, 2, 3, 0, 0, 0], m = 3, nums2 = [2, 5, 6], n = 3\n",
    "    # nums1 = [1, 2, 3, 0, 0, 0], nums2 = [2, 5, 6]\n",
    "    #             <- ^     <- ^               <- ^ \n",
    "    #  short_cursor_nums1  long_cursor_nums1   cursor_nums2\n",
    "    #  \n",
    "    # Always move the cursors from right to left, and compare the max values in nums1 and nums2\n",
    "    # If the max value of nums1 > the max value of nums2, \n",
    "    #   copy the max value of nums1 to the rightest. Meanwhile, move the short_cursor_nums1 and long_cursor_nums1.\n",
    "    # Otherwise, \n",
    "    #   copy the max value of nums2 to the rightest. Meanwhile, move the cursor_nums2 and long_cursor_nums1.\n",
    "    # \n",
    "    short_cursor_nums1 = m - 1\n",
    "    long_cursor_nums1 = len(nums1) - 1\n",
    "    cursor_nums2 = len(nums2) - 1\n",
    "\n",
    "    # iterate the max value of nums1 and nums2, and then compare to copy them\n",
    "    while long_cursor_nums1 >= 0 and cursor_nums2 >= 0:\n",
    "        if nums1[short_cursor_nums1] > nums2[cursor_nums2]:\n",
    "            nums1[long_cursor_nums1] = nums1[short_cursor_nums1]\n",
    "            short_cursor_nums1 -= 1\n",
    "        else :\n",
    "            nums1[long_cursor_nums1] = nums2[cursor_nums2]\n",
    "            cursor_nums2 -= 1\n",
    "\n",
    "        long_cursor_nums1 -= 1\n",
    "\n",
    "    # if the rest elements of nums2 is not empty, copy them\n",
    "    while cursor_nums2 >= 0:\n",
    "        nums1[long_cursor_nums1] = nums2[cursor_nums2]\n",
    "        cursor_nums2 -= 1\n",
    "        long_cursor_nums1 -= 1"
   ],
   "metadata": {
    "collapsed": false,
    "ExecuteTime": {
     "end_time": "2023-09-17T13:48:14.030536Z",
     "start_time": "2023-09-17T13:48:14.009475Z"
    }
   },
   "id": "357e290e35b3d528"
  },
  {
   "cell_type": "markdown",
   "source": [
    "# Verification"
   ],
   "metadata": {
    "collapsed": false
   },
   "id": "12e1e648c1236f62"
  },
  {
   "cell_type": "code",
   "execution_count": 21,
   "outputs": [
    {
     "name": "stdout",
     "output_type": "stream",
     "text": [
      "Output: [1, 2, 2, 3, 5, 6]\n"
     ]
    }
   ],
   "source": [
    "nums1 = [1,2,3,0,0,0]\n",
    "m = 3\n",
    "nums2 = [2,5,6]\n",
    "n = 3\n",
    "\n",
    "merge(nums1,m,nums2,n)\n",
    "print(f'Output: {nums1}')"
   ],
   "metadata": {
    "collapsed": false,
    "ExecuteTime": {
     "end_time": "2023-09-17T13:48:14.031076Z",
     "start_time": "2023-09-17T13:48:14.012214Z"
    }
   },
   "id": "862c3c267340924d"
  },
  {
   "cell_type": "code",
   "execution_count": 22,
   "outputs": [
    {
     "name": "stdout",
     "output_type": "stream",
     "text": [
      "Output: [1]\n"
     ]
    }
   ],
   "source": [
    "nums1 = [1]\n",
    "m = 1\n",
    "nums2 = []\n",
    "n = 0\n",
    "\n",
    "merge(nums1,m,nums2,n)\n",
    "print(f'Output: {nums1}')"
   ],
   "metadata": {
    "collapsed": false,
    "ExecuteTime": {
     "end_time": "2023-09-17T13:48:14.031312Z",
     "start_time": "2023-09-17T13:48:14.014434Z"
    }
   },
   "id": "bccc4f74e6e0b5f9"
  },
  {
   "cell_type": "code",
   "execution_count": 23,
   "outputs": [
    {
     "name": "stdout",
     "output_type": "stream",
     "text": [
      "Output: [1]\n"
     ]
    }
   ],
   "source": [
    "nums1 = [0]\n",
    "m = 0\n",
    "nums2 = [1]\n",
    "n = 1\n",
    "\n",
    "merge(nums1,m,nums2,n)\n",
    "print(f'Output: {nums1}')"
   ],
   "metadata": {
    "collapsed": false,
    "ExecuteTime": {
     "end_time": "2023-09-17T13:48:14.031463Z",
     "start_time": "2023-09-17T13:48:14.017163Z"
    }
   },
   "id": "6f8291bf18955978"
  }
 ],
 "metadata": {
  "kernelspec": {
   "display_name": "Python 3",
   "language": "python",
   "name": "python3"
  },
  "language_info": {
   "codemirror_mode": {
    "name": "ipython",
    "version": 2
   },
   "file_extension": ".py",
   "mimetype": "text/x-python",
   "name": "python",
   "nbconvert_exporter": "python",
   "pygments_lexer": "ipython2",
   "version": "2.7.6"
  }
 },
 "nbformat": 4,
 "nbformat_minor": 5
}
