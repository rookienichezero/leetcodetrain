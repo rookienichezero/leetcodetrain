{
 "cells": [
  {
   "cell_type": "markdown",
   "source": [
    "# Title: Jump Game\n",
    "\n",
    "## Description:\n",
    "You are given an integer array **nums**. You are initially positioned at the array's first index, and each element in the array represents your maximum jump length at that position.\n",
    "\n",
    "Return **true** if you can reach the last index, or **false** otherwise.\n",
    "\n",
    "\n",
    "\n",
    "## Example 1:\n",
    "\n",
    "**Input**: **nums** = [2,3,1,1,4]\n",
    "Output: **true**\n",
    "Explanation: Jump 1 step from index 0 to 1, then 3 steps to the last index.\n",
    "\n",
    "## Example 2:\n",
    "\n",
    "**Input**: **nums** = [3,2,1,0,4]\n",
    "Output: **false**\n",
    "Explanation: You will always arrive at index 3 no matter what. Its maximum jump length is 0, which makes it impossible to reach the last index."
   ],
   "metadata": {
    "collapsed": false
   },
   "id": "6d0f93b51b9d31f3"
  },
  {
   "cell_type": "markdown",
   "source": [
    "# Code Implement"
   ],
   "metadata": {
    "collapsed": false
   },
   "id": "8ff1bdd63ea7a25c"
  },
  {
   "cell_type": "code",
   "execution_count": 22,
   "outputs": [],
   "source": [
    "def can_jump(nums: [int]) -> bool:\n",
    "    \n",
    "    if not nums or len(nums) <= 1:\n",
    "        return True\n",
    "    \n",
    "    # the key point is judging the max reachable jump index.\n",
    "    # if the max reachable jump index >= the last element index, we can say that's reachable\n",
    "    # Otherwise, we think it's unreachable.\n",
    "    \n",
    "    # by default, we set the first element value as it's max reachable index\n",
    "    max_reachable_index = nums[0]\n",
    "    last_index =  (len(nums) - 1)\n",
    "    \n",
    "    for current_index, jump_length in enumerate(nums):    \n",
    "        # pre-check whether the current index beyond over the max reachable index.\n",
    "        # if yes, it means that we can't jump to the current position. We can previously stop the loop, and return False\n",
    "        if current_index > max_reachable_index:\n",
    "            return False\n",
    "\n",
    "        # dynamically calculate the max reachable index \n",
    "        new_reachable_index = current_index + jump_length\n",
    "        max_reachable_index = max(max_reachable_index, new_reachable_index)\n",
    "\n",
    "        # check whether the max reachable index is greater than or equal the last element index\n",
    "        # if yes, we can previously stop the loop, and return True\n",
    "        if max_reachable_index >= last_index:\n",
    "            return True\n",
    "        \n",
    "    return True"
   ],
   "metadata": {
    "collapsed": false,
    "ExecuteTime": {
     "end_time": "2023-09-17T17:38:09.803814Z",
     "start_time": "2023-09-17T17:38:09.798996Z"
    }
   },
   "id": "1c49048053db02e1"
  },
  {
   "cell_type": "markdown",
   "source": [
    "# Verification"
   ],
   "metadata": {
    "collapsed": false
   },
   "id": "77a51b7657989938"
  },
  {
   "cell_type": "code",
   "execution_count": 23,
   "outputs": [
    {
     "name": "stdout",
     "output_type": "stream",
     "text": [
      "Output: True\n"
     ]
    }
   ],
   "source": [
    "nums = [2,3,1,1,4]\n",
    "\n",
    "is_reach = can_jump(nums)\n",
    "\n",
    "print(f'Output: {is_reach}')"
   ],
   "metadata": {
    "collapsed": false,
    "ExecuteTime": {
     "end_time": "2023-09-17T17:38:11.328979Z",
     "start_time": "2023-09-17T17:38:11.322896Z"
    }
   },
   "id": "840ed29acc23b389"
  },
  {
   "cell_type": "code",
   "execution_count": 24,
   "outputs": [
    {
     "name": "stdout",
     "output_type": "stream",
     "text": [
      "Output: False\n"
     ]
    }
   ],
   "source": [
    "nums = [3,2,1,0,4]\n",
    "\n",
    "is_reach = can_jump(nums)\n",
    "\n",
    "print(f'Output: {is_reach}')"
   ],
   "metadata": {
    "collapsed": false,
    "ExecuteTime": {
     "end_time": "2023-09-17T17:38:12.717816Z",
     "start_time": "2023-09-17T17:38:12.711853Z"
    }
   },
   "id": "ece49c8189a76ba9"
  }
 ],
 "metadata": {
  "kernelspec": {
   "display_name": "Python 3",
   "language": "python",
   "name": "python3"
  },
  "language_info": {
   "codemirror_mode": {
    "name": "ipython",
    "version": 2
   },
   "file_extension": ".py",
   "mimetype": "text/x-python",
   "name": "python",
   "nbconvert_exporter": "python",
   "pygments_lexer": "ipython2",
   "version": "2.7.6"
  }
 },
 "nbformat": 4,
 "nbformat_minor": 5
}
